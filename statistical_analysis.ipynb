{
 "cells": [
  {
   "cell_type": "code",
   "execution_count": 5,
   "metadata": {
    "collapsed": true
   },
   "outputs": [],
   "source": [
    "import pandas as pd\n",
    "import matplotlib.pyplot as plt\n",
    "\n",
    "df = pd.read_csv('om_results.csv', low_memory = False)"
   ]
  },
  {
   "cell_type": "markdown",
   "metadata": {},
   "source": [
    "<h3>Example data</h3>"
   ]
  },
  {
   "cell_type": "code",
   "execution_count": 4,
   "metadata": {},
   "outputs": [
    {
     "data": {
      "text/html": [
       "<div>\n",
       "<style>\n",
       "    .dataframe thead tr:only-child th {\n",
       "        text-align: right;\n",
       "    }\n",
       "\n",
       "    .dataframe thead th {\n",
       "        text-align: left;\n",
       "    }\n",
       "\n",
       "    .dataframe tbody tr th {\n",
       "        vertical-align: top;\n",
       "    }\n",
       "</style>\n",
       "<table border=\"1\" class=\"dataframe\">\n",
       "  <thead>\n",
       "    <tr style=\"text-align: right;\">\n",
       "      <th></th>\n",
       "      <th>car_type</th>\n",
       "      <th>category</th>\n",
       "      <th>colour</th>\n",
       "      <th>condition</th>\n",
       "      <th>doors_number</th>\n",
       "      <th>engine_code</th>\n",
       "      <th>engine_volume</th>\n",
       "      <th>fuel</th>\n",
       "      <th>horse_power</th>\n",
       "      <th>make</th>\n",
       "      <th>mileage</th>\n",
       "      <th>model</th>\n",
       "      <th>price</th>\n",
       "      <th>production_year</th>\n",
       "      <th>seats_number</th>\n",
       "      <th>seller</th>\n",
       "      <th>transimission</th>\n",
       "      <th>url</th>\n",
       "      <th>version</th>\n",
       "      <th>wd_type</th>\n",
       "    </tr>\n",
       "  </thead>\n",
       "  <tbody>\n",
       "    <tr>\n",
       "      <th>0</th>\n",
       "      <td>Sedan/Limuzyna</td>\n",
       "      <td>Osobowe</td>\n",
       "      <td>Beżowy</td>\n",
       "      <td>Fine</td>\n",
       "      <td>4</td>\n",
       "      <td>NaN</td>\n",
       "      <td>1598.0</td>\n",
       "      <td>Benzyna</td>\n",
       "      <td>132.0</td>\n",
       "      <td>Toyota</td>\n",
       "      <td>52277.0</td>\n",
       "      <td>Corolla</td>\n",
       "      <td>59900</td>\n",
       "      <td>2015.0</td>\n",
       "      <td>5.0</td>\n",
       "      <td>Firma</td>\n",
       "      <td>Manualna</td>\n",
       "      <td>https://www.otomoto.pl/oferta/toyota-corolla-1...</td>\n",
       "      <td>NaN</td>\n",
       "      <td>NaN</td>\n",
       "    </tr>\n",
       "    <tr>\n",
       "      <th>1</th>\n",
       "      <td>Sedan/Limuzyna</td>\n",
       "      <td>Osobowe</td>\n",
       "      <td>Srebrny</td>\n",
       "      <td>Fine</td>\n",
       "      <td>4</td>\n",
       "      <td>NaN</td>\n",
       "      <td>1895.0</td>\n",
       "      <td>Benzyna</td>\n",
       "      <td>118.0</td>\n",
       "      <td>BMW</td>\n",
       "      <td>234750.0</td>\n",
       "      <td>Seria 3</td>\n",
       "      <td>10200</td>\n",
       "      <td>1999.0</td>\n",
       "      <td>5.0</td>\n",
       "      <td>Osoba prywatna</td>\n",
       "      <td>Manualna</td>\n",
       "      <td>https://www.otomoto.pl/oferta/bmw-seria-3-bmw-...</td>\n",
       "      <td>NaN</td>\n",
       "      <td>NaN</td>\n",
       "    </tr>\n",
       "    <tr>\n",
       "      <th>2</th>\n",
       "      <td>Kombi</td>\n",
       "      <td>Osobowe</td>\n",
       "      <td>Szary</td>\n",
       "      <td>Fine</td>\n",
       "      <td>NaN</td>\n",
       "      <td>NaN</td>\n",
       "      <td>1998.0</td>\n",
       "      <td>Diesel</td>\n",
       "      <td>126.0</td>\n",
       "      <td>Toyota</td>\n",
       "      <td>205300.0</td>\n",
       "      <td>Avensis</td>\n",
       "      <td>33300</td>\n",
       "      <td>2009.0</td>\n",
       "      <td>NaN</td>\n",
       "      <td>Osoba prywatna</td>\n",
       "      <td>Manualna</td>\n",
       "      <td>https://www.otomoto.pl/oferta/toyota-avensis-k...</td>\n",
       "      <td>NaN</td>\n",
       "      <td>NaN</td>\n",
       "    </tr>\n",
       "    <tr>\n",
       "      <th>3</th>\n",
       "      <td>SUV</td>\n",
       "      <td>Osobowe</td>\n",
       "      <td>Czarny</td>\n",
       "      <td>Fine</td>\n",
       "      <td>5</td>\n",
       "      <td>NaN</td>\n",
       "      <td>3999.0</td>\n",
       "      <td>Diesel</td>\n",
       "      <td>360.0</td>\n",
       "      <td>Mercedes-Benz</td>\n",
       "      <td>178700.0</td>\n",
       "      <td>ML</td>\n",
       "      <td>58000</td>\n",
       "      <td>2007.0</td>\n",
       "      <td>5.0</td>\n",
       "      <td>Osoba prywatna</td>\n",
       "      <td>Automatyczna</td>\n",
       "      <td>https://www.otomoto.pl/oferta/mercedes-benz-ml...</td>\n",
       "      <td>NaN</td>\n",
       "      <td>NaN</td>\n",
       "    </tr>\n",
       "    <tr>\n",
       "      <th>4</th>\n",
       "      <td>Hatchback</td>\n",
       "      <td>Osobowe</td>\n",
       "      <td>Szary</td>\n",
       "      <td>Fine</td>\n",
       "      <td>5</td>\n",
       "      <td>NaN</td>\n",
       "      <td>1400.0</td>\n",
       "      <td>Benzyna</td>\n",
       "      <td>150.0</td>\n",
       "      <td>Volkswagen</td>\n",
       "      <td>29000.0</td>\n",
       "      <td>Golf</td>\n",
       "      <td>55500</td>\n",
       "      <td>2013.0</td>\n",
       "      <td>5.0</td>\n",
       "      <td>Firma</td>\n",
       "      <td>Manualna</td>\n",
       "      <td>https://www.otomoto.pl/oferta/volkswagen-golf-...</td>\n",
       "      <td>NaN</td>\n",
       "      <td>NaN</td>\n",
       "    </tr>\n",
       "  </tbody>\n",
       "</table>\n",
       "</div>"
      ],
      "text/plain": [
       "         car_type category   colour condition doors_number  engine_code  \\\n",
       "0  Sedan/Limuzyna  Osobowe   Beżowy      Fine            4          NaN   \n",
       "1  Sedan/Limuzyna  Osobowe  Srebrny      Fine            4          NaN   \n",
       "2           Kombi  Osobowe    Szary      Fine          NaN          NaN   \n",
       "3             SUV  Osobowe   Czarny      Fine            5          NaN   \n",
       "4       Hatchback  Osobowe    Szary      Fine            5          NaN   \n",
       "\n",
       "   engine_volume     fuel  horse_power           make   mileage    model  \\\n",
       "0         1598.0  Benzyna        132.0         Toyota   52277.0  Corolla   \n",
       "1         1895.0  Benzyna        118.0            BMW  234750.0  Seria 3   \n",
       "2         1998.0   Diesel        126.0         Toyota  205300.0  Avensis   \n",
       "3         3999.0   Diesel        360.0  Mercedes-Benz  178700.0       ML   \n",
       "4         1400.0  Benzyna        150.0     Volkswagen   29000.0     Golf   \n",
       "\n",
       "   price  production_year  seats_number          seller transimission  \\\n",
       "0  59900           2015.0           5.0           Firma      Manualna   \n",
       "1  10200           1999.0           5.0  Osoba prywatna      Manualna   \n",
       "2  33300           2009.0           NaN  Osoba prywatna      Manualna   \n",
       "3  58000           2007.0           5.0  Osoba prywatna  Automatyczna   \n",
       "4  55500           2013.0           5.0           Firma      Manualna   \n",
       "\n",
       "                                                 url  version  wd_type  \n",
       "0  https://www.otomoto.pl/oferta/toyota-corolla-1...      NaN      NaN  \n",
       "1  https://www.otomoto.pl/oferta/bmw-seria-3-bmw-...      NaN      NaN  \n",
       "2  https://www.otomoto.pl/oferta/toyota-avensis-k...      NaN      NaN  \n",
       "3  https://www.otomoto.pl/oferta/mercedes-benz-ml...      NaN      NaN  \n",
       "4  https://www.otomoto.pl/oferta/volkswagen-golf-...      NaN      NaN  "
      ]
     },
     "execution_count": 4,
     "metadata": {},
     "output_type": "execute_result"
    }
   ],
   "source": [
    "df.head()"
   ]
  },
  {
   "cell_type": "code",
   "execution_count": 5,
   "metadata": {},
   "outputs": [
    {
     "data": {
      "text/html": [
       "<div>\n",
       "<style>\n",
       "    .dataframe thead tr:only-child th {\n",
       "        text-align: right;\n",
       "    }\n",
       "\n",
       "    .dataframe thead th {\n",
       "        text-align: left;\n",
       "    }\n",
       "\n",
       "    .dataframe tbody tr th {\n",
       "        vertical-align: top;\n",
       "    }\n",
       "</style>\n",
       "<table border=\"1\" class=\"dataframe\">\n",
       "  <thead>\n",
       "    <tr style=\"text-align: right;\">\n",
       "      <th></th>\n",
       "      <th>car_type</th>\n",
       "      <th>category</th>\n",
       "      <th>colour</th>\n",
       "      <th>condition</th>\n",
       "      <th>doors_number</th>\n",
       "      <th>engine_code</th>\n",
       "      <th>engine_volume</th>\n",
       "      <th>fuel</th>\n",
       "      <th>horse_power</th>\n",
       "      <th>make</th>\n",
       "      <th>mileage</th>\n",
       "      <th>model</th>\n",
       "      <th>price</th>\n",
       "      <th>production_year</th>\n",
       "      <th>seats_number</th>\n",
       "      <th>seller</th>\n",
       "      <th>transimission</th>\n",
       "      <th>url</th>\n",
       "      <th>version</th>\n",
       "      <th>wd_type</th>\n",
       "    </tr>\n",
       "  </thead>\n",
       "  <tbody>\n",
       "    <tr>\n",
       "      <th>185527</th>\n",
       "      <td>Hatchback</td>\n",
       "      <td>Osobowe</td>\n",
       "      <td>Szary</td>\n",
       "      <td>Fine</td>\n",
       "      <td>5</td>\n",
       "      <td>NaN</td>\n",
       "      <td>1797.0</td>\n",
       "      <td>Benzyna</td>\n",
       "      <td>122.0</td>\n",
       "      <td>Toyota</td>\n",
       "      <td>8000.0</td>\n",
       "      <td>C-HR</td>\n",
       "      <td>120500</td>\n",
       "      <td>2016.0</td>\n",
       "      <td>5.0</td>\n",
       "      <td>Firma</td>\n",
       "      <td>Manualna</td>\n",
       "      <td>https://www.otomoto.pl/oferta/toyota-c-hr-1-8-...</td>\n",
       "      <td>NaN</td>\n",
       "      <td>NaN</td>\n",
       "    </tr>\n",
       "    <tr>\n",
       "      <th>185528</th>\n",
       "      <td>Sedan/Limuzyna</td>\n",
       "      <td>Osobowe</td>\n",
       "      <td>Inny kolor</td>\n",
       "      <td>Fine</td>\n",
       "      <td>4</td>\n",
       "      <td>NaN</td>\n",
       "      <td>1598.0</td>\n",
       "      <td>Benzyna</td>\n",
       "      <td>132.0</td>\n",
       "      <td>Toyota</td>\n",
       "      <td>7185.0</td>\n",
       "      <td>Corolla</td>\n",
       "      <td>81900</td>\n",
       "      <td>2016.0</td>\n",
       "      <td>5.0</td>\n",
       "      <td>Firma</td>\n",
       "      <td>Manualna</td>\n",
       "      <td>https://www.otomoto.pl/oferta/toyota-corolla-1...</td>\n",
       "      <td>NaN</td>\n",
       "      <td>NaN</td>\n",
       "    </tr>\n",
       "    <tr>\n",
       "      <th>185529</th>\n",
       "      <td>Kombi</td>\n",
       "      <td>Osobowe</td>\n",
       "      <td>Czarny</td>\n",
       "      <td>Fine</td>\n",
       "      <td>5</td>\n",
       "      <td>NaN</td>\n",
       "      <td>1998.0</td>\n",
       "      <td>Diesel</td>\n",
       "      <td>124.0</td>\n",
       "      <td>Toyota</td>\n",
       "      <td>75000.0</td>\n",
       "      <td>Avensis</td>\n",
       "      <td>56500</td>\n",
       "      <td>2013.0</td>\n",
       "      <td>5.0</td>\n",
       "      <td>Firma</td>\n",
       "      <td>Manualna</td>\n",
       "      <td>https://www.otomoto.pl/oferta/toyota-avensis-2...</td>\n",
       "      <td>NaN</td>\n",
       "      <td>NaN</td>\n",
       "    </tr>\n",
       "    <tr>\n",
       "      <th>185530</th>\n",
       "      <td>Hatchback</td>\n",
       "      <td>Osobowe</td>\n",
       "      <td>Niebieski</td>\n",
       "      <td>Fine</td>\n",
       "      <td>5</td>\n",
       "      <td>NaN</td>\n",
       "      <td>1600.0</td>\n",
       "      <td>Benzyna</td>\n",
       "      <td>105.0</td>\n",
       "      <td>Mazda</td>\n",
       "      <td>147000.0</td>\n",
       "      <td>3</td>\n",
       "      <td>21900</td>\n",
       "      <td>2009.0</td>\n",
       "      <td>5.0</td>\n",
       "      <td>Firma</td>\n",
       "      <td>Manualna</td>\n",
       "      <td>https://www.otomoto.pl/oferta/mazda-3-serwis-k...</td>\n",
       "      <td>NaN</td>\n",
       "      <td>NaN</td>\n",
       "    </tr>\n",
       "    <tr>\n",
       "      <th>185531</th>\n",
       "      <td>Hatchback</td>\n",
       "      <td>Osobowe</td>\n",
       "      <td>Czarny</td>\n",
       "      <td>Fine</td>\n",
       "      <td>5</td>\n",
       "      <td>NaN</td>\n",
       "      <td>2967.0</td>\n",
       "      <td>Diesel</td>\n",
       "      <td>272.0</td>\n",
       "      <td>Audi</td>\n",
       "      <td>16000.0</td>\n",
       "      <td>A7</td>\n",
       "      <td>238995.00000000003</td>\n",
       "      <td>2015.0</td>\n",
       "      <td>5.0</td>\n",
       "      <td>Firma</td>\n",
       "      <td>Automatyczna</td>\n",
       "      <td>https://www.otomoto.pl/oferta/audi-a7-mmi-plus...</td>\n",
       "      <td>NaN</td>\n",
       "      <td>NaN</td>\n",
       "    </tr>\n",
       "  </tbody>\n",
       "</table>\n",
       "</div>"
      ],
      "text/plain": [
       "              car_type category      colour condition doors_number  \\\n",
       "185527       Hatchback  Osobowe       Szary      Fine            5   \n",
       "185528  Sedan/Limuzyna  Osobowe  Inny kolor      Fine            4   \n",
       "185529           Kombi  Osobowe      Czarny      Fine            5   \n",
       "185530       Hatchback  Osobowe   Niebieski      Fine            5   \n",
       "185531       Hatchback  Osobowe      Czarny      Fine            5   \n",
       "\n",
       "        engine_code  engine_volume     fuel  horse_power    make   mileage  \\\n",
       "185527          NaN         1797.0  Benzyna        122.0  Toyota    8000.0   \n",
       "185528          NaN         1598.0  Benzyna        132.0  Toyota    7185.0   \n",
       "185529          NaN         1998.0   Diesel        124.0  Toyota   75000.0   \n",
       "185530          NaN         1600.0  Benzyna        105.0   Mazda  147000.0   \n",
       "185531          NaN         2967.0   Diesel        272.0    Audi   16000.0   \n",
       "\n",
       "          model               price  production_year  seats_number seller  \\\n",
       "185527     C-HR              120500           2016.0           5.0  Firma   \n",
       "185528  Corolla               81900           2016.0           5.0  Firma   \n",
       "185529  Avensis               56500           2013.0           5.0  Firma   \n",
       "185530        3               21900           2009.0           5.0  Firma   \n",
       "185531       A7  238995.00000000003           2015.0           5.0  Firma   \n",
       "\n",
       "       transimission                                                url  \\\n",
       "185527      Manualna  https://www.otomoto.pl/oferta/toyota-c-hr-1-8-...   \n",
       "185528      Manualna  https://www.otomoto.pl/oferta/toyota-corolla-1...   \n",
       "185529      Manualna  https://www.otomoto.pl/oferta/toyota-avensis-2...   \n",
       "185530      Manualna  https://www.otomoto.pl/oferta/mazda-3-serwis-k...   \n",
       "185531  Automatyczna  https://www.otomoto.pl/oferta/audi-a7-mmi-plus...   \n",
       "\n",
       "        version  wd_type  \n",
       "185527      NaN      NaN  \n",
       "185528      NaN      NaN  \n",
       "185529      NaN      NaN  \n",
       "185530      NaN      NaN  \n",
       "185531      NaN      NaN  "
      ]
     },
     "execution_count": 5,
     "metadata": {},
     "output_type": "execute_result"
    }
   ],
   "source": [
    "df.tail()"
   ]
  },
  {
   "cell_type": "markdown",
   "metadata": {},
   "source": [
    "<h3>Quantity of cars by car type.</h3>"
   ]
  },
  {
   "cell_type": "code",
   "execution_count": 9,
   "metadata": {},
   "outputs": [
    {
     "data": {
      "text/plain": [
       "Hatchback         71707\n",
       "Kombi             39881\n",
       "Sedan/Limuzyna    29312\n",
       "SUV               15631\n",
       "Van (minibus)      8616\n",
       "Minivan            7001\n",
       "Sportowy/Coupe     5773\n",
       "Terenowy           3835\n",
       "Kabriolet          3033\n",
       "Pick-up             570\n",
       "vans                  1\n",
       "others                1\n",
       "Name: car_type, dtype: int64"
      ]
     },
     "execution_count": 9,
     "metadata": {},
     "output_type": "execute_result"
    }
   ],
   "source": [
    "df['car_type'].value_counts()"
   ]
  },
  {
   "cell_type": "code",
   "execution_count": 15,
   "metadata": {},
   "outputs": [
    {
     "data": {
      "image/png": "[encoded data removed]",
      "text/plain": [
       "<matplotlib.figure.Figure at 0x7a84d50>"
      ]
     },
     "metadata": {},
     "output_type": "display_data"
    }
   ],
   "source": [
    "plt.figure(figsize=(20,10))\n",
    "df['car_type'].value_counts().plot(kind = 'bar')\n",
    "plt.grid()\n",
    "plt.title('Number of cars by type')\n",
    "plt.xlabel('Type')\n",
    "plt.ylabel('Number of cars')\n",
    "# plt.savefig('figures/cars_by_type.png')\n",
    "plt.show()"
   ]
  },
  {
   "cell_type": "markdown",
   "metadata": {},
   "source": [
    "<h3>Car category check - should be only 'osobowe' ('passenger cars' in polish).</h3>"
   ]
  },
  {
   "cell_type": "code",
   "execution_count": 10,
   "metadata": {},
   "outputs": [
    {
     "data": {
      "text/plain": [
       "Osobowe    185532\n",
       "Name: category, dtype: int64"
      ]
     },
     "execution_count": 10,
     "metadata": {},
     "output_type": "execute_result"
    }
   ],
   "source": [
    "df['category'].value_counts()"
   ]
  },
  {
   "cell_type": "markdown",
   "metadata": {},
   "source": [
    "<h3>Quantity of cars by color.</h3>"
   ]
  },
  {
   "cell_type": "code",
   "execution_count": 11,
   "metadata": {},
   "outputs": [
    {
     "data": {
      "text/plain": [
       "Czarny        43945\n",
       "Srebrny       38443\n",
       "Szary         22501\n",
       "Niebieski     21848\n",
       "Biały         16022\n",
       "Inny kolor    14678\n",
       "Czerwony       7127\n",
       "Zielony        6391\n",
       "Brązowy        3871\n",
       "Bordowy        3502\n",
       "Złoty          2957\n",
       "Beżowy         2209\n",
       "Fioletowy      1016\n",
       "Żółty           854\n",
       "Name: colour, dtype: int64"
      ]
     },
     "execution_count": 11,
     "metadata": {},
     "output_type": "execute_result"
    }
   ],
   "source": [
    "df['colour'].value_counts()"
   ]
  },
  {
   "cell_type": "markdown",
   "metadata": {},
   "source": [
    "<h3>Quantity of cars by car condition. Car can be labeled as 'damaged', if it was not I added label 'fine'.</h3>"
   ]
  },
  {
   "cell_type": "code",
   "execution_count": 12,
   "metadata": {},
   "outputs": [
    {
     "data": {
      "text/plain": [
       "Fine       177559\n",
       "Damaged      7973\n",
       "Name: condition, dtype: int64"
      ]
     },
     "execution_count": 12,
     "metadata": {},
     "output_type": "execute_result"
    }
   ],
   "source": [
    "df['condition'].value_counts()"
   ]
  },
  {
   "cell_type": "markdown",
   "metadata": {},
   "source": [
    "<h3>Quantity of cars by number of doors. There are some obvious mistakes visible (e.g. 33 990 is the car's price written in the field 'number of doors'</h3>"
   ]
  },
  {
   "cell_type": "code",
   "execution_count": 13,
   "metadata": {},
   "outputs": [
    {
     "data": {
      "text/plain": [
       "5         112119\n",
       "4          25820\n",
       "3          15512\n",
       "2           5160\n",
       "6            127\n",
       "7             53\n",
       "9              5\n",
       "1              4\n",
       "8              3\n",
       "33 990         1\n",
       "10             1\n",
       "54             1\n",
       "50             1\n",
       "45             1\n",
       "58             1\n",
       "Name: doors_number, dtype: int64"
      ]
     },
     "execution_count": 13,
     "metadata": {},
     "output_type": "execute_result"
    }
   ],
   "source": [
    "df['doors_number'].value_counts()"
   ]
  },
  {
   "cell_type": "markdown",
   "metadata": {},
   "source": [
    "<h3>Quantity of cars by the type of fuel used. </h3>\n",
    "<p>Benzyna == gasoline</p>\n",
    "<p>Hybryda == hybrid</p>\n",
    "<p>Elektryczny == electric</p>\n",
    "<p>Etanol == ethanol</p>"
   ]
  },
  {
   "cell_type": "code",
   "execution_count": 32,
   "metadata": {},
   "outputs": [
    {
     "data": {
      "text/plain": [
       "Diesel         91388\n",
       "Benzyna        82398\n",
       "Benzyna+LPG    10437\n",
       "Hybryda          910\n",
       "Benzyna+CNG      115\n",
       "Elektryczny      114\n",
       "Etanol             2\n",
       "Name: fuel, dtype: int64"
      ]
     },
     "execution_count": 32,
     "metadata": {},
     "output_type": "execute_result"
    }
   ],
   "source": [
    "df['fuel'].value_counts()"
   ]
  },
  {
   "cell_type": "markdown",
   "metadata": {},
   "source": [
    "<h3>Quantity of cars by make.</h3>"
   ]
  },
  {
   "cell_type": "code",
   "execution_count": 96,
   "metadata": {},
   "outputs": [
    {
     "data": {
      "text/plain": [
       "Volkswagen       19930\n",
       "Opel             17426\n",
       "Audi             14180\n",
       "BMW              13923\n",
       "Ford             12883\n",
       "Renault          11585\n",
       "Mercedes-Benz     9933\n",
       "Toyota            9591\n",
       "Peugeot           8043\n",
       "Citroën           7021\n",
       "Škoda             6950\n",
       "Fiat              5205\n",
       "Seat              4921\n",
       "Mazda             4501\n",
       "Volvo             4437\n",
       "Nissan            4321\n",
       "Hyundai           4142\n",
       "Honda             3826\n",
       "Kia               3353\n",
       "Suzuki            2386\n",
       "Mitsubishi        2208\n",
       "Chevrolet         1572\n",
       "Alfa Romeo        1515\n",
       "Mini              1023\n",
       "Subaru             885\n",
       "Jeep               874\n",
       "Land Rover         860\n",
       "Dacia              774\n",
       "Chrysler           743\n",
       "Jaguar             734\n",
       "                 ...  \n",
       "McLaren              8\n",
       "Warszawa             8\n",
       "Oldsmobile           7\n",
       "Triumph              6\n",
       "Nysa                 6\n",
       "Chatenet             5\n",
       "Tarpan               4\n",
       "Zastava              4\n",
       "Grecav               4\n",
       "Austin               4\n",
       "Gonow                3\n",
       "Vauxhall             3\n",
       "Mahindra             3\n",
       "Żuk                  3\n",
       "Plymouth             3\n",
       "LTI                  3\n",
       "Gaz                  3\n",
       "Piaggio              2\n",
       "Lotus                2\n",
       "Scion                2\n",
       "Mercury              2\n",
       "Moskwicz             2\n",
       "Aro                  2\n",
       "Zaporożec            2\n",
       "Iveco                1\n",
       "NSU                  1\n",
       "Proton               1\n",
       "Tavria               1\n",
       "Maybach              1\n",
       "Shuanghuan           1\n",
       "Name: make, Length: 100, dtype: int64"
      ]
     },
     "execution_count": 96,
     "metadata": {},
     "output_type": "execute_result"
    }
   ],
   "source": [
    "df['make'].value_counts()"
   ]
  },
  {
   "cell_type": "markdown",
   "metadata": {},
   "source": [
    "<h3>Quantity of cars by number of seats.</h3>"
   ]
  },
  {
   "cell_type": "code",
   "execution_count": 47,
   "metadata": {},
   "outputs": [
    {
     "data": {
      "text/plain": [
       "5.0    134946\n",
       "7.0      8332\n",
       "4.0      8270\n",
       "2.0      2581\n",
       "9.0       840\n",
       "6.0       679\n",
       "3.0       415\n",
       "8.0       411\n",
       "1.0         7\n",
       "Name: seats_number, dtype: int64"
      ]
     },
     "execution_count": 47,
     "metadata": {},
     "output_type": "execute_result"
    }
   ],
   "source": [
    "df['seats_number'].value_counts()"
   ]
  },
  {
   "cell_type": "markdown",
   "metadata": {},
   "source": [
    "<h3>Quantity of cars by model.</h3>"
   ]
  },
  {
   "cell_type": "code",
   "execution_count": 48,
   "metadata": {},
   "outputs": [
    {
     "data": {
      "text/plain": [
       "1076"
      ]
     },
     "execution_count": 48,
     "metadata": {},
     "output_type": "execute_result"
    }
   ],
   "source": [
    "len(df['model'].unique())"
   ]
  },
  {
   "cell_type": "code",
   "execution_count": 12,
   "metadata": {},
   "outputs": [
    {
     "data": {
      "text/plain": [
       "Astra          5717\n",
       "Seria 3        5249\n",
       "Golf           5163\n",
       "Passat         5105\n",
       "A4             4999\n",
       "Focus          3848\n",
       "Seria 5        3506\n",
       "Octavia        3000\n",
       "A6             2951\n",
       "Corsa          2797\n",
       "Mondeo         2698\n",
       "Megane         2645\n",
       "A3             2547\n",
       "Polo           2304\n",
       "Avensis        2155\n",
       "Zafira         2149\n",
       "Fabia          2073\n",
       "Clio           1997\n",
       "Yaris          1977\n",
       "Klasa E        1960\n",
       "Fiesta         1904\n",
       "Scenic         1844\n",
       "Vectra         1836\n",
       "Laguna         1725\n",
       "6              1704\n",
       "Insignia       1658\n",
       "Klasa C        1650\n",
       "Leon           1643\n",
       "Meriva         1522\n",
       "Civic          1477\n",
       "               ... \n",
       "Z4 M              1\n",
       "Rendezvous        1\n",
       "Stealth           1\n",
       "Karoq             1\n",
       "SSR               1\n",
       "Bronco            1\n",
       "21                1\n",
       "Eight             1\n",
       "Yukon             1\n",
       "Belvedere         1\n",
       "S1                1\n",
       "Crossblade        1\n",
       "224               1\n",
       "Solstice          1\n",
       "Starion           1\n",
       "412               1\n",
       "340               1\n",
       "Mondial           1\n",
       "Massif            1\n",
       "Family            1\n",
       "Testarossa        1\n",
       "Xenon             1\n",
       "820               1\n",
       "Beta              1\n",
       "Spyder            1\n",
       "Monte Carlo       1\n",
       "Shuttle           1\n",
       "Enclave           1\n",
       "203               1\n",
       "968               1\n",
       "Name: model, Length: 1076, dtype: int64"
      ]
     },
     "execution_count": 12,
     "metadata": {},
     "output_type": "execute_result"
    }
   ],
   "source": [
    "df['model'].value_counts()"
   ]
  },
  {
   "cell_type": "markdown",
   "metadata": {},
   "source": [
    "<h3>Production year</h3>"
   ]
  },
  {
   "cell_type": "code",
   "execution_count": 101,
   "metadata": {},
   "outputs": [
    {
     "data": {
      "image/png": "[encoded data removed]",
      "text/plain": [
       "<matplotlib.figure.Figure at 0x90beff0>"
      ]
     },
     "metadata": {},
     "output_type": "display_data"
    }
   ],
   "source": [
    "plt.figure(figsize=(20,10))\n",
    "df['production_year'].hist(bins = 50, range = [1960, 2020])\n",
    "plt.title('Production year histogram')\n",
    "plt.xlabel('Production year')\n",
    "plt.ylabel('Number of cars')\n",
    "# plt.savefig('figures/production_year_histogram.png')\n",
    "plt.show()"
   ]
  },
  {
   "cell_type": "markdown",
   "metadata": {},
   "source": [
    "<h3>Horse power</h3>"
   ]
  },
  {
   "cell_type": "code",
   "execution_count": 102,
   "metadata": {},
   "outputs": [
    {
     "data": {
      "image/png": "[encoded data removed]",
      "text/plain": [
       "<matplotlib.figure.Figure at 0x9524990>"
      ]
     },
     "metadata": {},
     "output_type": "display_data"
    }
   ],
   "source": [
    "plt.figure(figsize=(20,10))\n",
    "df['horse_power'].hist(range = [0, 700], bins = 50)\n",
    "plt.title('Horse power histogram')\n",
    "plt.xlabel('Horse power')\n",
    "plt.ylabel('Number of cars')\n",
    "# plt.savefig('figures/horse_power_histogram.png')\n",
    "plt.show()"
   ]
  },
  {
   "cell_type": "markdown",
   "metadata": {},
   "source": [
    "<h3>Quantity of cars by type of transmission (gearbox) </h3>\n",
    "<p>Manualna == manual</p>\n",
    "<p>Automatyczna == automatic</p>\n",
    "<p>Półautomatyczna == semi-automatic</p>"
   ]
  },
  {
   "cell_type": "code",
   "execution_count": 87,
   "metadata": {},
   "outputs": [
    {
     "data": {
      "text/plain": [
       "Manualna                            129531\n",
       "Automatyczna                         36815\n",
       "Półautomatyczna (ASG, Tiptronic)      1365\n",
       "Name: transimission, dtype: int64"
      ]
     },
     "execution_count": 87,
     "metadata": {},
     "output_type": "execute_result"
    }
   ],
   "source": [
    "df['transimission'].value_counts()"
   ]
  },
  {
   "cell_type": "markdown",
   "metadata": {},
   "source": [
    "<h3>Quantity of cars by type of seller</h3>\n",
    "<p>Osoba prywatna == private person</p>\n",
    "<p>Firma == firm/car dealer</p>"
   ]
  },
  {
   "cell_type": "code",
   "execution_count": 88,
   "metadata": {},
   "outputs": [
    {
     "data": {
      "text/plain": [
       "Firma             105509\n",
       "Osoba prywatna     80023\n",
       "Name: seller, dtype: int64"
      ]
     },
     "execution_count": 88,
     "metadata": {},
     "output_type": "execute_result"
    }
   ],
   "source": [
    "df['seller'].value_counts()"
   ]
  },
  {
   "cell_type": "markdown",
   "metadata": {},
   "source": [
    "<h3>Mileage<h3>"
   ]
  },
  {
   "cell_type": "code",
   "execution_count": 115,
   "metadata": {},
   "outputs": [
    {
     "name": "stdout",
     "output_type": "stream",
     "text": [
      "Mean: 159122.2143134589\n",
      "Minimum: 0.0\n",
      "25%: 102250.0\n",
      "50%: 165382.5\n",
      "75%: 211000.0\n",
      "Maximum: 9999999.0 \n"
     ]
    }
   ],
   "source": [
    "mean = df['mileage'].mean()\n",
    "maximum = df['mileage'].max()\n",
    "minimum = df['mileage'].min()\n",
    "q1 = df['mileage'].quantile(0.25)\n",
    "median = df['mileage'].median()\n",
    "q3 = df['mileage'].quantile(0.75)\n",
    "print('Mean: {}\\nMinimum: {}\\n25%: {}\\n50%: {}\\n75%: {}\\nMaximum: {} '.format(mean, minimum, q1, median, q3, maximum))"
   ]
  },
  {
   "cell_type": "code",
   "execution_count": 103,
   "metadata": {},
   "outputs": [
    {
     "data": {
      "image/png": "[encoded data removed]",
      "text/plain": [
       "<matplotlib.figure.Figure at 0x7699750>"
      ]
     },
     "metadata": {},
     "output_type": "display_data"
    }
   ],
   "source": [
    "t_mileage = []\n",
    "for x in df['mileage']:\n",
    "    try:\n",
    "        t_mileage.append(float(int(x)/1000))\n",
    "    except ValueError:\n",
    "        pass\n",
    "\n",
    "plt.figure(figsize=(20,10))\n",
    "plt.hist(t_mileage, bins = 50, range = [0, 600])\n",
    "plt.title('Mileage histogram')\n",
    "plt.xlabel('Mileage (thousands kilometers)')\n",
    "plt.ylabel('Number of cars')\n",
    "plt.grid()\n",
    "# plt.savefig('figures/mileage_histogram.png')\n",
    "plt.show()"
   ]
  },
  {
   "cell_type": "markdown",
   "metadata": {},
   "source": [
    "<h3>Prices</h3>"
   ]
  },
  {
   "cell_type": "code",
   "execution_count": 105,
   "metadata": {},
   "outputs": [
    {
     "data": {
      "image/png": "[encoded data removed]",
      "text/plain": [
       "<matplotlib.figure.Figure at 0xef89fd0>"
      ]
     },
     "metadata": {},
     "output_type": "display_data"
    }
   ],
   "source": [
    "t_prices = []\n",
    "for x in df['price']:\n",
    "    try:\n",
    "        t_prices.append(int(x)/1000)\n",
    "    except ValueError:\n",
    "        pass\n",
    "    \n",
    "plt.figure(figsize=(20,10))\n",
    "plt.hist(t_prices, bins = 100, range = [0, 450])\n",
    "plt.title('Price histogram')\n",
    "plt.xlabel('Price (thousands PLN)')\n",
    "plt.ylabel('Number of cars')\n",
    "plt.grid()\n",
    "# plt.savefig('figures/price_histogram.png')\n",
    "plt.show()"
   ]
  },
  {
   "cell_type": "markdown",
   "metadata": {},
   "source": [
    "<h3>Diesel engines mileage vs gasoline engines mileage</h3>"
   ]
  },
  {
   "cell_type": "code",
   "execution_count": 89,
   "metadata": {
    "collapsed": true
   },
   "outputs": [],
   "source": [
    "diesel_mileage = df['mileage'][df.fuel == 'Diesel']\n",
    "gasoline_mileage = df['mileage'][df.fuel == 'Benzyna']\n",
    "t_diesel_mileage = []\n",
    "t_gasoline_mileage = []\n",
    "for x in diesel_mileage:\n",
    "    t_diesel_mileage.append(int(x)/1000)\n",
    "    \n",
    "for y in gasoline_mileage:    \n",
    "    t_gasoline_mileage.append(int(y)/1000)"
   ]
  },
  {
   "cell_type": "code",
   "execution_count": 107,
   "metadata": {},
   "outputs": [
    {
     "data": {
      "image/png": "[encoded data removed]",
      "text/plain": [
       "<matplotlib.figure.Figure at 0xaf20070>"
      ]
     },
     "metadata": {},
     "output_type": "display_data"
    }
   ],
   "source": [
    "plt.figure(figsize=(20,10))\n",
    "plt.hist(t_diesel_mileage, bins = 50, range = [0, 550], alpha = 0.5, label = 'diesel')\n",
    "plt.hist(t_gasoline_mileage, bins = 50, range = [0, 550], alpha = 0.5, label = 'gasoline')\n",
    "plt.title('Mileage histogram - diesel powered engines vs gasoline powered engines')\n",
    "plt.xlabel('Mileage (thousands kilometers)')\n",
    "plt.ylabel('Number of cars')\n",
    "plt.legend(loc = 'best')\n",
    "# plt.savefig('figures/mileage_dies_gas_histogram.png')\n",
    "plt.show()"
   ]
  },
  {
   "cell_type": "code",
   "execution_count": null,
   "metadata": {
    "collapsed": true
   },
   "outputs": [],
   "source": []
  }
 ],
 "metadata": {
  "kernelspec": {
   "display_name": "Python 3",
   "language": "python",
   "name": "python3"
  },
  "language_info": {
   "codemirror_mode": {
    "name": "ipython",
    "version": 3
   },
   "file_extension": ".py",
   "mimetype": "text/x-python",
   "name": "python",
   "nbconvert_exporter": "python",
   "pygments_lexer": "ipython3",
   "version": "3.6.1"
  }
 },
 "nbformat": 4,
 "nbformat_minor": 2
}

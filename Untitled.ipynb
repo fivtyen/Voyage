{
 "cells": [
  {
   "cell_type": "code",
   "execution_count": 39,
   "metadata": {},
   "outputs": [],
   "source": [
    "import pandas as pd\n",
    "import matplotlib.pyplot as plt\n",
    "import seaborn\n",
    "\n",
    "seaborn.set()\n",
    "\n",
    "df = pd.read_csv('om_results.csv', low_memory=False)"
   ]
  },
  {
   "cell_type": "code",
   "execution_count": 8,
   "metadata": {},
   "outputs": [
    {
     "data": {
      "text/html": [
       "<div>\n",
       "<table border=\"1\" class=\"dataframe\">\n",
       "  <thead>\n",
       "    <tr style=\"text-align: right;\">\n",
       "      <th></th>\n",
       "      <th>car_type</th>\n",
       "      <th>category</th>\n",
       "      <th>colour</th>\n",
       "      <th>condition</th>\n",
       "      <th>doors_number</th>\n",
       "      <th>engine_code</th>\n",
       "      <th>engine_volume</th>\n",
       "      <th>fuel</th>\n",
       "      <th>horse_power</th>\n",
       "      <th>make</th>\n",
       "      <th>mileage</th>\n",
       "      <th>model</th>\n",
       "      <th>price</th>\n",
       "      <th>production_year</th>\n",
       "      <th>seats_number</th>\n",
       "      <th>seller</th>\n",
       "      <th>transimission</th>\n",
       "      <th>url</th>\n",
       "      <th>version</th>\n",
       "      <th>wd_type</th>\n",
       "    </tr>\n",
       "  </thead>\n",
       "  <tbody>\n",
       "    <tr>\n",
       "      <th>0</th>\n",
       "      <td>Sedan/Limuzyna</td>\n",
       "      <td>Osobowe</td>\n",
       "      <td>Beżowy</td>\n",
       "      <td>Fine</td>\n",
       "      <td>4</td>\n",
       "      <td>NaN</td>\n",
       "      <td>1598.0</td>\n",
       "      <td>Benzyna</td>\n",
       "      <td>132.0</td>\n",
       "      <td>Toyota</td>\n",
       "      <td>52277.0</td>\n",
       "      <td>Corolla</td>\n",
       "      <td>59900</td>\n",
       "      <td>2015.0</td>\n",
       "      <td>5.0</td>\n",
       "      <td>Firma</td>\n",
       "      <td>Manualna</td>\n",
       "      <td>https://www.otomoto.pl/oferta/toyota-corolla-1...</td>\n",
       "      <td>NaN</td>\n",
       "      <td>NaN</td>\n",
       "    </tr>\n",
       "    <tr>\n",
       "      <th>1</th>\n",
       "      <td>Sedan/Limuzyna</td>\n",
       "      <td>Osobowe</td>\n",
       "      <td>Srebrny</td>\n",
       "      <td>Fine</td>\n",
       "      <td>4</td>\n",
       "      <td>NaN</td>\n",
       "      <td>1895.0</td>\n",
       "      <td>Benzyna</td>\n",
       "      <td>118.0</td>\n",
       "      <td>BMW</td>\n",
       "      <td>234750.0</td>\n",
       "      <td>Seria 3</td>\n",
       "      <td>10200</td>\n",
       "      <td>1999.0</td>\n",
       "      <td>5.0</td>\n",
       "      <td>Osoba prywatna</td>\n",
       "      <td>Manualna</td>\n",
       "      <td>https://www.otomoto.pl/oferta/bmw-seria-3-bmw-...</td>\n",
       "      <td>NaN</td>\n",
       "      <td>NaN</td>\n",
       "    </tr>\n",
       "    <tr>\n",
       "      <th>2</th>\n",
       "      <td>Kombi</td>\n",
       "      <td>Osobowe</td>\n",
       "      <td>Szary</td>\n",
       "      <td>Fine</td>\n",
       "      <td>NaN</td>\n",
       "      <td>NaN</td>\n",
       "      <td>1998.0</td>\n",
       "      <td>Diesel</td>\n",
       "      <td>126.0</td>\n",
       "      <td>Toyota</td>\n",
       "      <td>205300.0</td>\n",
       "      <td>Avensis</td>\n",
       "      <td>33300</td>\n",
       "      <td>2009.0</td>\n",
       "      <td>NaN</td>\n",
       "      <td>Osoba prywatna</td>\n",
       "      <td>Manualna</td>\n",
       "      <td>https://www.otomoto.pl/oferta/toyota-avensis-k...</td>\n",
       "      <td>NaN</td>\n",
       "      <td>NaN</td>\n",
       "    </tr>\n",
       "    <tr>\n",
       "      <th>3</th>\n",
       "      <td>SUV</td>\n",
       "      <td>Osobowe</td>\n",
       "      <td>Czarny</td>\n",
       "      <td>Fine</td>\n",
       "      <td>5</td>\n",
       "      <td>NaN</td>\n",
       "      <td>3999.0</td>\n",
       "      <td>Diesel</td>\n",
       "      <td>360.0</td>\n",
       "      <td>Mercedes-Benz</td>\n",
       "      <td>178700.0</td>\n",
       "      <td>ML</td>\n",
       "      <td>58000</td>\n",
       "      <td>2007.0</td>\n",
       "      <td>5.0</td>\n",
       "      <td>Osoba prywatna</td>\n",
       "      <td>Automatyczna</td>\n",
       "      <td>https://www.otomoto.pl/oferta/mercedes-benz-ml...</td>\n",
       "      <td>NaN</td>\n",
       "      <td>NaN</td>\n",
       "    </tr>\n",
       "    <tr>\n",
       "      <th>4</th>\n",
       "      <td>Hatchback</td>\n",
       "      <td>Osobowe</td>\n",
       "      <td>Szary</td>\n",
       "      <td>Fine</td>\n",
       "      <td>5</td>\n",
       "      <td>NaN</td>\n",
       "      <td>1400.0</td>\n",
       "      <td>Benzyna</td>\n",
       "      <td>150.0</td>\n",
       "      <td>Volkswagen</td>\n",
       "      <td>29000.0</td>\n",
       "      <td>Golf</td>\n",
       "      <td>55500</td>\n",
       "      <td>2013.0</td>\n",
       "      <td>5.0</td>\n",
       "      <td>Firma</td>\n",
       "      <td>Manualna</td>\n",
       "      <td>https://www.otomoto.pl/oferta/volkswagen-golf-...</td>\n",
       "      <td>NaN</td>\n",
       "      <td>NaN</td>\n",
       "    </tr>\n",
       "  </tbody>\n",
       "</table>\n",
       "</div>"
      ],
      "text/plain": [
       "         car_type category   colour condition doors_number  engine_code  \\\n",
       "0  Sedan/Limuzyna  Osobowe   Beżowy      Fine            4          NaN   \n",
       "1  Sedan/Limuzyna  Osobowe  Srebrny      Fine            4          NaN   \n",
       "2           Kombi  Osobowe    Szary      Fine          NaN          NaN   \n",
       "3             SUV  Osobowe   Czarny      Fine            5          NaN   \n",
       "4       Hatchback  Osobowe    Szary      Fine            5          NaN   \n",
       "\n",
       "   engine_volume     fuel  horse_power           make   mileage    model  \\\n",
       "0         1598.0  Benzyna        132.0         Toyota   52277.0  Corolla   \n",
       "1         1895.0  Benzyna        118.0            BMW  234750.0  Seria 3   \n",
       "2         1998.0   Diesel        126.0         Toyota  205300.0  Avensis   \n",
       "3         3999.0   Diesel        360.0  Mercedes-Benz  178700.0       ML   \n",
       "4         1400.0  Benzyna        150.0     Volkswagen   29000.0     Golf   \n",
       "\n",
       "   price  production_year  seats_number          seller transimission  \\\n",
       "0  59900           2015.0           5.0           Firma      Manualna   \n",
       "1  10200           1999.0           5.0  Osoba prywatna      Manualna   \n",
       "2  33300           2009.0           NaN  Osoba prywatna      Manualna   \n",
       "3  58000           2007.0           5.0  Osoba prywatna  Automatyczna   \n",
       "4  55500           2013.0           5.0           Firma      Manualna   \n",
       "\n",
       "                                                 url  version  wd_type  \n",
       "0  https://www.otomoto.pl/oferta/toyota-corolla-1...      NaN      NaN  \n",
       "1  https://www.otomoto.pl/oferta/bmw-seria-3-bmw-...      NaN      NaN  \n",
       "2  https://www.otomoto.pl/oferta/toyota-avensis-k...      NaN      NaN  \n",
       "3  https://www.otomoto.pl/oferta/mercedes-benz-ml...      NaN      NaN  \n",
       "4  https://www.otomoto.pl/oferta/volkswagen-golf-...      NaN      NaN  "
      ]
     },
     "execution_count": 8,
     "metadata": {},
     "output_type": "execute_result"
    }
   ],
   "source": [
    "df.head()"
   ]
  },
  {
   "cell_type": "code",
   "execution_count": 27,
   "metadata": {},
   "outputs": [
    {
     "name": "stdout",
     "output_type": "stream",
     "text": [
      "159122.2143134589\n",
      "9999999.0\n",
      " 0.0\n"
     ]
    }
   ],
   "source": [
    "mean = df['mileage'].mean()\n",
    "maximum = df['mileage'].max()\n",
    "minimum = df['mileage'].min()\n",
    "print('{}\\n{}\\n {}'.format(mean, maximum, minimum))"
   ]
  },
  {
   "cell_type": "code",
   "execution_count": 35,
   "metadata": {},
   "outputs": [
    {
     "data": {
      "text/plain": [
       "9.8989933320385717"
      ]
     },
     "execution_count": 35,
     "metadata": {},
     "output_type": "execute_result"
    }
   ],
   "source": [
    "(2017 - df['production_year'].mean())"
   ]
  },
  {
   "cell_type": "code",
   "execution_count": 44,
   "metadata": {},
   "outputs": [
    {
     "data": {
      "image/png": "[encoded data removed]",
      "text/plain": [
       "<matplotlib.figure.Figure at 0xe5ca610>"
      ]
     },
     "metadata": {},
     "output_type": "display_data"
    }
   ],
   "source": [
    "df['production_year'].hist(range=[1960, 2020], bins = 20)\n",
    "plt.show()"
   ]
  },
  {
   "cell_type": "code",
   "execution_count": 46,
   "metadata": {},
   "outputs": [
    {
     "data": {
      "text/plain": [
       "Volkswagen    19930\n",
       "Opel          17426\n",
       "Audi          14180\n",
       "BMW           13923\n",
       "Ford          12883\n",
       "Name: make, dtype: int64"
      ]
     },
     "execution_count": 46,
     "metadata": {},
     "output_type": "execute_result"
    }
   ],
   "source": [
    "df['make'].value_counts().head()"
   ]
  },
  {
   "cell_type": "code",
   "execution_count": 47,
   "metadata": {},
   "outputs": [
    {
     "data": {
      "text/plain": [
       "Astra      5717\n",
       "Seria 3    5249\n",
       "Golf       5163\n",
       "Passat     5105\n",
       "A4         4999\n",
       "Name: model, dtype: int64"
      ]
     },
     "execution_count": 47,
     "metadata": {},
     "output_type": "execute_result"
    }
   ],
   "source": [
    "df['model'].value_counts().head()"
   ]
  },
  {
   "cell_type": "code",
   "execution_count": 51,
   "metadata": {},
   "outputs": [
    {
     "data": {
      "text/plain": [
       "Diesel         91388\n",
       "Benzyna        82398\n",
       "Benzyna+LPG    10437\n",
       "Hybryda          910\n",
       "Benzyna+CNG      115\n",
       "Elektryczny      114\n",
       "Etanol             2\n",
       "Name: fuel, dtype: int64"
      ]
     },
     "execution_count": 51,
     "metadata": {},
     "output_type": "execute_result"
    }
   ],
   "source": [
    "df['fuel'].value_counts()"
   ]
  },
  {
   "cell_type": "code",
   "execution_count": 52,
   "metadata": {},
   "outputs": [
    {
     "data": {
      "text/plain": [
       "Firma             105509\n",
       "Osoba prywatna     80023\n",
       "Name: seller, dtype: int64"
      ]
     },
     "execution_count": 52,
     "metadata": {},
     "output_type": "execute_result"
    }
   ],
   "source": [
    "df['seller'].value_counts()"
   ]
  },
  {
   "cell_type": "code",
   "execution_count": 54,
   "metadata": {},
   "outputs": [
    {
     "data": {
      "text/plain": [
       "Czarny       43945\n",
       "Srebrny      38443\n",
       "Szary        22501\n",
       "Niebieski    21848\n",
       "Biały        16022\n",
       "Name: colour, dtype: int64"
      ]
     },
     "execution_count": 54,
     "metadata": {},
     "output_type": "execute_result"
    }
   ],
   "source": [
    "df['colour'].value_counts().head()"
   ]
  },
  {
   "cell_type": "code",
   "execution_count": 55,
   "metadata": {},
   "outputs": [
    {
     "data": {
      "text/plain": [
       "139.64110621855909"
      ]
     },
     "execution_count": 55,
     "metadata": {},
     "output_type": "execute_result"
    }
   ],
   "source": [
    "df['horse_power'].mean()"
   ]
  },
  {
   "cell_type": "code",
   "execution_count": 56,
   "metadata": {},
   "outputs": [
    {
     "name": "stderr",
     "output_type": "stream",
     "text": [
      "IOPub data rate exceeded.\n",
      "The notebook server will temporarily stop sending output\n",
      "to the client in order to avoid crashing it.\n",
      "To change this limit, set the config variable\n",
      "`--NotebookApp.iopub_data_rate_limit`.\n"
     ]
    }
   ],
   "source": [
    "df['price'].mean()"
   ]
  },
  {
   "cell_type": "code",
   "execution_count": null,
   "metadata": {
    "collapsed": true
   },
   "outputs": [],
   "source": []
  }
 ],
 "metadata": {
  "kernelspec": {
   "display_name": "Python 3",
   "language": "python",
   "name": "python3"
  },
  "language_info": {
   "codemirror_mode": {
    "name": "ipython",
    "version": 3
   },
   "file_extension": ".py",
   "mimetype": "text/x-python",
   "name": "python",
   "nbconvert_exporter": "python",
   "pygments_lexer": "ipython3",
   "version": "3.6.0"
  }
 },
 "nbformat": 4,
 "nbformat_minor": 2
}
